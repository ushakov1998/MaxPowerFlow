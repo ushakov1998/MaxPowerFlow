{
 "cells": [
  {
   "cell_type": "code",
   "execution_count": 2,
   "metadata": {},
   "outputs": [],
   "source": [
    "# Импорт нужной для работы библиотеки\n",
    "import win32com.client\n",
    "rastr = win32com.client.Dispatch('Astra.Rastr')"
   ]
  },
  {
   "cell_type": "code",
   "execution_count": 3,
   "metadata": {},
   "outputs": [],
   "source": [
    "import sys\n",
    "\n",
    "# Если данная ячейка завершается ошибкой,\n",
    "# значит вы используете не 32-битную версию Python\n",
    "assert sys.maxsize < 2**32, \\\n",
    "    'Incorrect Python architecture. We should use Python 32-bit'"
   ]
  },
  {
   "cell_type": "code",
   "execution_count": 4,
   "metadata": {},
   "outputs": [
    {
     "name": "stdout",
     "output_type": "stream",
     "text": [
      "0\n"
     ]
    }
   ],
   "source": [
    "# Загружаем режим\n",
    "rastr.Load(1, 'regime.rg2', '')\n",
    "result = rastr.rgm('p')\n",
    "print(result)"
   ]
  },
  {
   "cell_type": "code",
   "execution_count": 5,
   "metadata": {},
   "outputs": [
    {
     "name": "stdout",
     "output_type": "stream",
     "text": [
      "{'line_1': {'ip': 17, 'iq': 16, 'np': 0}, 'line_2': {'ip': 6, 'iq': 11, 'np': 0}, 'line_3': {'ip': 4, 'iq': 14, 'np': 0}}\n"
     ]
    }
   ],
   "source": [
    "# Парсим json с сечением\n",
    "import json\n",
    "\n",
    "with open('flowgate.json', \"r\") as flowgate:\n",
    "    flowgate_data = json.load(flowgate)\n",
    "\n",
    "print(flowgate_data)\n",
    "\n",
    "#for line in flowgate_data:\n",
    "#    print(flowgate_data[line]['ip'])"
   ]
  },
  {
   "cell_type": "code",
   "execution_count": 6,
   "metadata": {},
   "outputs": [
    {
     "name": "stdout",
     "output_type": "stream",
     "text": [
      "{'outage_of_6_11': {'ip': 6, 'iq': 11, 'np': 0, 'sta': 1}, 'outage_of_4_14': {'ip': 4, 'iq': 14, 'np': 0, 'sta': 1}}\n"
     ]
    }
   ],
   "source": [
    "# Парсим json с отключениями\n",
    "import json\n",
    "\n",
    "faults = open('faults.json', \"r\")\n",
    "faults_data = json.load(faults)\n",
    "\n",
    "print(faults_data)\n",
    "\n",
    "#for lines in faults_data:\n",
    "#    print(faults_data[lines]['ip'])"
   ]
  },
  {
   "cell_type": "code",
   "execution_count": 6,
   "metadata": {},
   "outputs": [
    {
     "name": "stdout",
     "output_type": "stream",
     "text": [
      "[{'variable': 'pn', 'node': '23', 'value': '-3.0', 'tg': '1'}, {'variable': 'pn', 'node': '24', 'value': '-3.0', 'tg': '1'}, {'variable': 'pn', 'node': '29', 'value': '1.0', 'tg': '1'}, {'variable': 'pn', 'node': '21', 'value': '-3.0', 'tg': '1'}, {'variable': 'pn', 'node': '27', 'value': '2.0', 'tg': '1'}, {'variable': 'pn', 'node': '3', 'value': '2.0', 'tg': '1'}, {'variable': 'pn', 'node': '16', 'value': '-4.0', 'tg': '1'}, {'variable': 'pn', 'node': '8', 'value': '3.0', 'tg': '1'}, {'variable': 'pn', 'node': '7', 'value': '2.0', 'tg': '1'}, {'variable': 'pn', 'node': '15', 'value': '-4.0', 'tg': '1'}, {'variable': 'pn', 'node': '4', 'value': '4.0', 'tg': '1'}, {'variable': 'pn', 'node': '20', 'value': '-1.0', 'tg': '0'}, {'variable': 'pn', 'node': '25', 'value': '4.0', 'tg': '0'}, {'variable': 'pg', 'node': '1', 'value': '4.0', 'tg': '0'}, {'variable': 'pg', 'node': '2', 'value': '3.0', 'tg': '0'}, {'variable': 'pg', 'node': '3', 'value': '3.0', 'tg': '0'}, {'variable': 'pg', 'node': '4', 'value': '3.0', 'tg': '0'}, {'variable': 'pg', 'node': '5', 'value': '2.0', 'tg': '0'}, {'variable': 'pg', 'node': '6', 'value': '-4.0', 'tg': '0'}, {'variable': 'pg', 'node': '7', 'value': '-4.0', 'tg': '0'}, {'variable': 'pg', 'node': '8', 'value': '-2.0', 'tg': '0'}, {'variable': 'pg', 'node': '9', 'value': '-1.0', 'tg': '0'}]\n"
     ]
    }
   ],
   "source": [
    "# Парсим csv с траекторией\n",
    "import csv\n",
    "\n",
    "trajectory_data = []\n",
    "\n",
    "vector = open('vector.csv', newline = '')\n",
    "vector_data = csv.DictReader(vector)\n",
    "\n",
    "for row in vector_data:\n",
    "    trajectory_data.append(row)\n",
    "\n",
    "#print(trajectory_data)\n",
    "print(trajectory_data)\n",
    "\n",
    "#for node in trajectory_data:\n",
    "#   print(node)"
   ]
  },
  {
   "cell_type": "code",
   "execution_count": 7,
   "metadata": {},
   "outputs": [
    {
     "name": "stdout",
     "output_type": "stream",
     "text": [
      "{'23': 0, '24': 1, '29': 2, '21': 3, '27': 4, '3': 5, '16': 6, '8': 7, '7': 8, '15': 9, '4': 10, '20': 11, '25': 12, '1': 13, '2': 14, '5': 17, '6': 18, '9': 21}\n"
     ]
    }
   ],
   "source": [
    "#Словарик узлов\n",
    "node_data = {}\n",
    "i = 0\n",
    "for node in trajectory_data:\n",
    "    if node['node'] not in node_data:\n",
    "        node_data[node['node']] = i\n",
    "    i = i + 1\n",
    "print(node_data)"
   ]
  },
  {
   "cell_type": "code",
   "execution_count": 8,
   "metadata": {},
   "outputs": [],
   "source": [
    "# Формируем и загружаем шаблоны\n",
    "rastr.Save('sech.sch', 'C:/Users/Aleksandr/Documents/RastrWin3/SHABLON/сечения.sch')\n",
    "rastr.Load(1, 'sech.sch', 'C:/Users/Aleksandr/Documents/RastrWin3/SHABLON/сечения.sch')\n",
    "\n",
    "rastr.Save('traj.ut2', 'C:/Users/Aleksandr/Documents/RastrWin3/SHABLON/траектория утяжеления.ut2')\n",
    "rastr.Load(1, 'traj.ut2', 'C:/Users/Aleksandr/Documents/RastrWin3/SHABLON/траектория утяжеления.ut2')"
   ]
  },
  {
   "cell_type": "code",
   "execution_count": 9,
   "metadata": {},
   "outputs": [],
   "source": [
    "#Заполняем sech.sch\n",
    "FlowGate = rastr.Tables('sechen')\n",
    "GroupLine = rastr.Tables('grline')\n",
    "\n",
    "FlowGate.DelRowS()\n",
    "GroupLine.DelRows()\n",
    "\n",
    "FlowGate.AddRow()\n",
    "FlowGate.Cols('name').SetZ(0, 'new')\n",
    "FlowGate.Cols('ns').SetZ(0, 1)\n",
    "FlowGate.Cols('sta').SetZ(0, 1)\n",
    "\n",
    "i = 0\n",
    "\n",
    "for line in flowgate_data:\n",
    "    GroupLine.AddRow()\n",
    "    GroupLine.Cols('ns').SetZ(i, 1)\n",
    "\n",
    "    start_node = flowgate_data[line]['ip']\n",
    "    end_node = flowgate_data[line]['iq']\n",
    "\n",
    "    GroupLine.Cols('ip').SetZ(i, start_node)\n",
    "    GroupLine.Cols('iq').SetZ(i, end_node)\n",
    "    \n",
    "    i = i + 1\n",
    "\n",
    "rastr.Save('sech.sch', 'C:/Users/Aleksandr/Documents/RastrWin3/SHABLON/сечения.sch')"
   ]
  },
  {
   "cell_type": "code",
   "execution_count": 10,
   "metadata": {},
   "outputs": [],
   "source": [
    "#Заполняем traj.ut2\n",
    "Trajectory = rastr.Tables('ut_node')\n",
    "\n",
    "i = 0\n",
    "node_dic = {}\n",
    "\n",
    "Trajectory.DelRowS()\n",
    "\n",
    "for node in trajectory_data:\n",
    "    node_type = node['variable']\n",
    "    node_number = node['node']\n",
    "    power_change = float(node['value'])\n",
    "    power_tg = node['tg']\n",
    "\n",
    "    if node_number not in node_dic:\n",
    "        node_dic[node_number] = i\n",
    "        i = i + 1\n",
    "        Trajectory.AddRow()\n",
    "        Trajectory.Cols('ny').SetZ(node_dic[node_number], node_number)\n",
    "        Trajectory.Cols(node_type).SetZ(node_dic[node_number], power_change)\n",
    "    else:\n",
    "        Trajectory.Cols(node_type).SetZ(node_dic[node_number], power_change)\n",
    "\n",
    "    if Trajectory.Cols('tg').Z(node_dic[node_number]) == 0:\n",
    "        Trajectory.Cols('tg').SetZ(node_dic[node_number], power_tg)\n",
    "\n",
    "rastr.Save('traj.ut2', 'C:/Users/Aleksandr/Documents/RastrWin3/SHABLON/траектория утяжеления.ut2')"
   ]
  },
  {
   "cell_type": "code",
   "execution_count": 11,
   "metadata": {},
   "outputs": [
    {
     "name": "stdout",
     "output_type": "stream",
     "text": [
      "0\n"
     ]
    }
   ],
   "source": [
    "# Тестовое утяжеление\n",
    "rastr.Load(1, 'regime.rg2', 'C:/Users/Aleksandr/Documents/RastrWin3/SHABLON/режим.rg2')\n",
    "rastr.Load(1, 'sech.sch', 'C:/Users/Aleksandr/Documents/RastrWin3/SHABLON/сечения.sch')\n",
    "rastr.Load(1, 'traj.ut2', 'C:/Users/Aleksandr/Documents/RastrWin3/SHABLON/траектория утяжеления.ut2')\n",
    "\n",
    "result = rastr.rgm('p')\n",
    "print(result)"
   ]
  },
  {
   "cell_type": "code",
   "execution_count": 12,
   "metadata": {},
   "outputs": [],
   "source": [
    "# Параметры утяжеления\n",
    "PowerFlowControl = rastr.Tables('ut_common')\n",
    "PowerFlowControl.Cols('iter').SetZ(0, 200)\n",
    "PowerFlowControl.Cols('enable_contr').SetZ(0, 1)\n",
    "PowerFlowControl.Cols('dis_v_contr').SetZ(0, 1)\n",
    "PowerFlowControl.Cols('dis_i_contr').SetZ(0, 1)"
   ]
  },
  {
   "cell_type": "code",
   "execution_count": 13,
   "metadata": {},
   "outputs": [
    {
     "name": "stdout",
     "output_type": "stream",
     "text": [
      "2808.21\n"
     ]
    }
   ],
   "source": [
    "#Пробное утяжеление\n",
    "if rastr.ut_utr('i') > 0:\n",
    "    rastr.ut_utr('')\n",
    "\n",
    "maxPowerFlow = round(abs(rastr.Tables('sechen').Cols('psech').Z(0)), 2)\n",
    "print(maxPowerFlow)"
   ]
  },
  {
   "cell_type": "code",
   "execution_count": 14,
   "metadata": {},
   "outputs": [
    {
     "name": "stdout",
     "output_type": "stream",
     "text": [
      "2216.57\n"
     ]
    }
   ],
   "source": [
    "#Обеспечение нормативного коэффициента запаса статической апериодической устойчивости \n",
    "# по активной мощности в контролируемом сечении в нормальной схеме\n",
    "\n",
    "rastr.Load(1, 'regime.rg2', 'C:/Users/Aleksandr/Documents/RastrWin3/SHABLON/режим.rg2')\n",
    "rastr.Load(1, 'sech.sch', 'C:/Users/Aleksandr/Documents/RastrWin3/SHABLON/сечения.sch')\n",
    "rastr.Load(1, 'traj.ut2', 'C:/Users/Aleksandr/Documents/RastrWin3/SHABLON/траектория утяжеления.ut2')\n",
    "\n",
    "PowerFlowControl = rastr.Tables('ut_common')\n",
    "PowerFlowControl.Cols('iter').SetZ(0, 200)\n",
    "PowerFlowControl.Cols('enable_contr').SetZ(0, 1)\n",
    "PowerFlowControl.Cols('dis_v_contr').SetZ(0, 1)\n",
    "PowerFlowControl.Cols('dis_i_contr').SetZ(0, 1)\n",
    "\n",
    "if rastr.ut_utr('i') > 0:\n",
    "    rastr.ut_utr('')\n",
    "\n",
    "Criteria1 = abs(rastr.Tables('sechen').Cols('psech').Z(0)) * 0.8 - 30\n",
    "Criteria1 = round(Criteria1, 2)\n",
    "print(Criteria1)"
   ]
  },
  {
   "cell_type": "code",
   "execution_count": 50,
   "metadata": {},
   "outputs": [
    {
     "name": "stdout",
     "output_type": "stream",
     "text": [
      "2778.21\n"
     ]
    }
   ],
   "source": [
    "#Обеспечение нормативного коэффициента запаса статической устойчивости\n",
    "# по напряжению в узлах нагрузки в нормальной схеме\n",
    "\n",
    "rastr.Load(1, 'regime.rg2', 'C:/Users/Aleksandr/Documents/RastrWin3/SHABLON/режим.rg2')\n",
    "rastr.Load(1, 'sech.sch', 'C:/Users/Aleksandr/Documents/RastrWin3/SHABLON/сечения.sch')\n",
    "rastr.Load(1, 'traj.ut2', 'C:/Users/Aleksandr/Documents/RastrWin3/SHABLON/траектория утяжеления.ut2')\n",
    "\n",
    "PowerFlowControl = rastr.Tables('ut_common')\n",
    "PowerFlowControl.Cols('iter').SetZ(0, 200)\n",
    "PowerFlowControl.Cols('enable_contr').SetZ(0, 1)\n",
    "PowerFlowControl.Cols('dis_i_contr').SetZ(0, 1)\n",
    "\n",
    "i = 0\n",
    "\n",
    "while i < rastr.Tables('node').Size:\n",
    "    if rastr.Tables('node').Cols('tip').Z(i) == 1:\n",
    "        u_kr = rastr.Tables('node').Cols('uhom').Z(i) * 0,7\n",
    "        u_min = u_kr * 1,15\n",
    "        rastr.Tables('node').Cols('umin').SetZ(i, u_min)\n",
    "        rastr.Tables('node').Cols('contr_v').SetZ(i, 1)\n",
    "    i = i + 1\n",
    "\n",
    "if rastr.ut_utr('i') > 0:\n",
    "    rastr.ut_utr('')\n",
    "\n",
    "#print(abs(rastr.Tables('sechen').Cols('psech').Z(0)))\n",
    "\n",
    "Criteria2 = abs(rastr.Tables('sechen').Cols('psech').Z(0)) - 30\n",
    "Criteria2 = round(Criteria2, 2)\n",
    "print(Criteria2)\n",
    "\n",
    "#rastr.GetToggle().MoveOnPosition(len(rastr.GetToggle().GetPositions()) - 1)\n",
    "\n",
    "#abs(rastr.Tables('sechen').Cols('psech').Z(0))"
   ]
  },
  {
   "cell_type": "code",
   "execution_count": 33,
   "metadata": {},
   "outputs": [
    {
     "name": "stdout",
     "output_type": "stream",
     "text": [
      "{'outage_of_6_11': {'ip': 6, 'iq': 11, 'np': 0, 'sta': 1}, 'outage_of_4_14': {'ip': 4, 'iq': 14, 'np': 0, 'sta': 1}}\n"
     ]
    }
   ],
   "source": [
    "print(faults_data)"
   ]
  },
  {
   "cell_type": "code",
   "execution_count": 41,
   "metadata": {},
   "outputs": [
    {
     "name": "stdout",
     "output_type": "stream",
     "text": [
      "2132.61\n"
     ]
    }
   ],
   "source": [
    "# Обеспечение нормативного коэффициента запаса статической апериодической устойчивости\n",
    "# по активной мощности в контролируемом сечении в послеаварийных режимах после нормативных возмущений\n",
    "\n",
    "rastr.Load(1, 'regime.rg2', 'C:/Users/Aleksandr/Documents/RastrWin3/SHABLON/режим.rg2')\n",
    "rastr.Load(1, 'sech.sch', 'C:/Users/Aleksandr/Documents/RastrWin3/SHABLON/сечения.sch')\n",
    "rastr.Load(1, 'traj.ut2', 'C:/Users/Aleksandr/Documents/RastrWin3/SHABLON/траектория утяжеления.ut2')\n",
    "\n",
    "PowerFlowControl = rastr.Tables('ut_common')\n",
    "PowerFlowControl.Cols('iter').SetZ(0, 200)\n",
    "PowerFlowControl.Cols('enable_contr').SetZ(0, 1)\n",
    "PowerFlowControl.Cols('dis_i_contr').SetZ(0, 1)\n",
    "PowerFlowControl.Cols('dis_v_contr').SetZ(0, 1)\n",
    "\n",
    "Critereria3 = []\n",
    "i = 0\n",
    "PowerFlow = 0\n",
    "j = 1\n",
    "\n",
    "for lines in faults_data:\n",
    "    while i < rastr.Tables('vetv').Size:\n",
    "        if (rastr.Tables('vetv').Cols('iq').Z(i) == faults_data[lines]['iq']) and (rastr.Tables('vetv').Cols('ip').Z(i) == faults_data[lines]['ip']):\n",
    "            \n",
    "            rastr.Tables('vetv').Cols('sta').SetZ(i, 1)\n",
    "        \n",
    "            if rastr.ut_utr('i') > 0:\n",
    "                rastr.ut_utr('')          \n",
    "            \n",
    "            PowerFlow = abs(rastr.Tables('sechen').Cols('psech').Z(0))\n",
    "            PowerFlow80 = PowerFlow * 0.92\n",
    "\n",
    "            while PowerFlow > PowerFlow80:\n",
    "                rastr.GetToggle().MoveOnPosition(len(rastr.GetToggle().GetPositions()) - j)\n",
    "                PowerFlow = abs(rastr.Tables('sechen').Cols('psech').Z(0))\n",
    "                j = j + 1\n",
    "            \n",
    "            j = 1\n",
    "\n",
    "            rastr.Tables('vetv').Cols('sta').SetZ(i, 0)\n",
    "            rastr.rgm('p')\n",
    "\n",
    "            maxPowerFlow = abs(rastr.Tables('sechen').Cols('psech').Z(0)) - 30\n",
    "            maxPowerFlow = round(maxPowerFlow, 2)\n",
    "\n",
    "            Critereria3.append(maxPowerFlow)\n",
    "            rastr.Load(1, 'regime.rg2', 'C:/Aleksandr/mishk/Documents/RastrWin3/SHABLON/режим.rg2')\n",
    "\n",
    "        i = i + 1\n",
    "    i = 0    \n",
    "\n",
    "\n",
    "print(min(Critereria3))"
   ]
  },
  {
   "cell_type": "code",
   "execution_count": 48,
   "metadata": {},
   "outputs": [
    {
     "name": "stdout",
     "output_type": "stream",
     "text": [
      "2369.69\n"
     ]
    }
   ],
   "source": [
    "# Обеспечение нормативного коэффициента запаса статической устойчивости по напряжению\n",
    "# в узлах нагрузки в послеаварийных режимах после нормативных возмущений\n",
    "\n",
    "rastr.Load(1, 'regime.rg2', 'C:/Aleksandr/mishk/Documents/RastrWin3/SHABLON/режим.rg2')\n",
    "rastr.Load(1, 'sech.sch', 'C:/Aleksandr/mishk/Documents/RastrWin3/SHABLON/сечения.sch')\n",
    "rastr.Load(1, 'traj.ut2', 'C:/Aleksandr/mishk/Documents/RastrWin3/SHABLON/траектория утяжеления.ut2')\n",
    "\n",
    "PowerFlowControl = rastr.Tables('ut_common')\n",
    "PowerFlowControl.Cols('iter').SetZ(0, 200)\n",
    "PowerFlowControl.Cols('enable_contr').SetZ(0, 1)\n",
    "PowerFlowControl.Cols('dis_i_contr').SetZ(0, 1)\n",
    "\n",
    "Critereria4 = []\n",
    "i = 0\n",
    "PowerFlow = 0\n",
    "j = 1\n",
    "k = 0\n",
    "\n",
    "\n",
    "while k < rastr.Tables('node').Size:\n",
    "    if rastr.Tables('node').Cols('tip').Z(k) == 1:\n",
    "        u_kr = rastr.Tables('node').Cols('uhom').Z(k) * 0,7\n",
    "        u_min = u_kr * 1,1\n",
    "        rastr.Tables('node').Cols('umin').SetZ(k, u_min)\n",
    "    k = k + 1\n",
    "\n",
    "\n",
    "\n",
    "\n",
    "for lines in faults_data:\n",
    "    while i < rastr.Tables('vetv').Size:\n",
    "        if (rastr.Tables('vetv').Cols('iq').Z(i) == faults_data[lines]['iq']) and (rastr.Tables('vetv').Cols('ip').Z(i) == faults_data[lines]['ip']):\n",
    "            \n",
    "            rastr.Tables('vetv').Cols('sta').SetZ(i, 1)\n",
    "        \n",
    "            if rastr.ut_utr('i') > 0:\n",
    "                rastr.ut_utr('')          \n",
    "            \n",
    "            rastr.Tables('vetv').Cols('sta').SetZ(i, 0)\n",
    "            rastr.rgm('p')\n",
    "\n",
    "            maxPowerFlow = abs(rastr.Tables('sechen').Cols('psech').Z(0))\n",
    "            maxPowerFlow = round(maxPowerFlow, 2)\n",
    "\n",
    "            Critereria4.append(maxPowerFlow)\n",
    "            rastr.Load(1, 'regime.rg2', 'C:/Users/Aleksandr/Documents/RastrWin3/SHABLON/режим.rg2')\n",
    "\n",
    "        i = i + 1\n",
    "    i = 0    \n",
    "\n",
    "\n",
    "print(min(Critereria4))"
   ]
  },
  {
   "cell_type": "code",
   "execution_count": 56,
   "metadata": {},
   "outputs": [
    {
     "name": "stdout",
     "output_type": "stream",
     "text": [
      "1817.14\n"
     ]
    }
   ],
   "source": [
    "#Обеспечение допустимой токовой нагрузки линий электропередачи и электросетевого оборудования в нормальной схеме\n",
    "rastr.Load(1, 'regime.rg2', 'C:/Users/Aleksandr/Documents/RastrWin3/SHABLON/режим.rg2')\n",
    "rastr.Load(1, 'sech.sch', 'C:/Users/Aleksandr/Documents/RastrWin3/SHABLON/сечения.sch')\n",
    "rastr.Load(1, 'traj.ut2', 'C:/Users/Aleksandr/Documents/RastrWin3/SHABLON/траектория утяжеления.ut2')\n",
    "\n",
    "PowerFlowControl = rastr.Tables('ut_common')\n",
    "PowerFlowControl.Cols('iter').SetZ(0, 200)\n",
    "PowerFlowControl.Cols('enable_contr').SetZ(0, 1)\n",
    "PowerFlowControl.Cols('dis_v_contr').SetZ(0, 1)\n",
    "\n",
    "j = 1\n",
    "\n",
    "for line in flowgate_data:\n",
    "    while i < rastr.Tables('vetv').Size:\n",
    "        if (flowgate_data[line]['ip'] == rastr.Tables('vetv').Cols('ip').Z(i)) and (flowgate_data[line]['iq'] == rastr.Tables('vetv').Cols('iq').Z(i)):\n",
    "            rastr.Tables('vetv').Cols('contr_i').SetZ(i, 1)\n",
    "            rastr.Tables('vetv').Cols('i_dop').SetZ(i, rastr.Tables('vetv').Cols('i_dop_r').Z(i))\n",
    "        i = i +1\n",
    "    i = 0\n",
    "\n",
    "if rastr.ut_utr('i') > 0:\n",
    "    rastr.ut_utr('')\n",
    "\n",
    "Criteria5 = abs(rastr.Tables('sechen').Cols('psech').Z(0))\n",
    "Criteria5 = round(Criteria5, 2)\n",
    "\n",
    "print(Criteria5)"
   ]
  },
  {
   "cell_type": "code",
   "execution_count": 60,
   "metadata": {},
   "outputs": [
    {
     "name": "stdout",
     "output_type": "stream",
     "text": [
      "1509.26\n"
     ]
    }
   ],
   "source": [
    "#Обеспечение допустимой токовой нагрузки линий электропередачи и электросетевого оборудования в нормальной схеме\n",
    "rastr.Load(1, 'regime.rg2', 'C:/Users/Aleksandr/Documents/RastrWin3/SHABLON/режим.rg2')\n",
    "rastr.Load(1, 'sech.sch', 'C:/Users/Aleksandr/Documents/RastrWin3/SHABLON/сечения.sch')\n",
    "rastr.Load(1, 'traj.ut2', 'C:/Users/Aleksandr/Documents/RastrWin3/SHABLON/траектория утяжеления.ut2')\n",
    "\n",
    "PowerFlowControl = rastr.Tables('ut_common')\n",
    "PowerFlowControl.Cols('iter').SetZ(0, 200)\n",
    "PowerFlowControl.Cols('enable_contr').SetZ(0, 1)\n",
    "PowerFlowControl.Cols('dis_v_contr').SetZ(0, 1)\n",
    "\n",
    "Criteria6 = []\n",
    "i = 0\n",
    "j = 0\n",
    "k = 0\n",
    "\n",
    "for lines in faults_data:\n",
    "    \n",
    "    for line in flowgate_data:\n",
    "        while i < rastr.Tables('vetv').Size:\n",
    "            if (flowgate_data[line]['ip'] == rastr.Tables('vetv').Cols('ip').Z(i)) and (flowgate_data[line]['iq'] == rastr.Tables('vetv').Cols('iq').Z(i)):\n",
    "                rastr.Tables('vetv').Cols('contr_i').SetZ(i, 1)\n",
    "                rastr.Tables('vetv').Cols('i_dop').SetZ(i, rastr.Tables('vetv').Cols('i_dop_r_av').Z(i))\n",
    "            i = i + 1\n",
    "        i = 0\n",
    "      \n",
    "    while j < rastr.Tables('vetv').Size:\n",
    "        if (rastr.Tables('vetv').Cols('iq').Z(j) == faults_data[lines]['iq']) and (rastr.Tables('vetv').Cols('ip').Z(j) == faults_data[lines]['ip']):\n",
    "            \n",
    "            rastr.Tables('vetv').Cols('sta').SetZ(j, 1)\n",
    "        \n",
    "            if rastr.ut_utr('i') > 0:\n",
    "                rastr.ut_utr('')          \n",
    "            \n",
    "            rastr.Tables('vetv').Cols('sta').SetZ(j, 0)\n",
    "            rastr.rgm('p')\n",
    "\n",
    "            maxPowerFlow = abs(rastr.Tables('sechen').Cols('psech').Z(0))\n",
    "            maxPowerFlow = round(maxPowerFlow, 2)\n",
    "\n",
    "            Criteria6.append(maxPowerFlow)\n",
    "            rastr.Load(1, 'regime.rg2', 'C:/Users/Aleksandr/Documents/RastrWin3/SHABLON/режим.rg2')\n",
    "\n",
    "        j = j + 1\n",
    "    j = 0\n",
    "\n",
    "print(min(Criteria6))"
   ]
  }
 ],
 "metadata": {
  "interpreter": {
   "hash": "29fb7df95740e5f803f78043f46750ba682e15b6d5c2a5b15198a1ec2c0e8ac6"
  },
  "kernelspec": {
   "display_name": "Python 3 (ipykernel)",
   "language": "python",
   "name": "python3"
  },
  "language_info": {
   "codemirror_mode": {
    "name": "ipython",
    "version": 3
   },
   "file_extension": ".py",
   "mimetype": "text/x-python",
   "name": "python",
   "nbconvert_exporter": "python",
   "pygments_lexer": "ipython3",
   "version": "3.9.7"
  }
 },
 "nbformat": 4,
 "nbformat_minor": 2
}
